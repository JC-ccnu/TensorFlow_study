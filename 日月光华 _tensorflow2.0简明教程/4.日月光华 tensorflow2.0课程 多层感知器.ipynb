{
 "cells": [
  {
   "cell_type": "code",
   "execution_count": 3,
   "metadata": {},
   "outputs": [],
   "source": [
    "import tensorflow as tf\n",
    "import pandas as pd\n",
    "import numpy as np\n",
    "import matplotlib.pyplot as plt\n",
    "%matplotlib inline"
   ]
  },
  {
   "cell_type": "code",
   "execution_count": 4,
   "metadata": {},
   "outputs": [],
   "source": [
    "data = pd.read_csv('/home/txh/wjc/Advertising.csv')"
   ]
  },
  {
   "cell_type": "code",
   "execution_count": 7,
   "metadata": {},
   "outputs": [
    {
     "data": {
      "text/html": [
       "<div>\n",
       "<style scoped>\n",
       "    .dataframe tbody tr th:only-of-type {\n",
       "        vertical-align: middle;\n",
       "    }\n",
       "\n",
       "    .dataframe tbody tr th {\n",
       "        vertical-align: top;\n",
       "    }\n",
       "\n",
       "    .dataframe thead th {\n",
       "        text-align: right;\n",
       "    }\n",
       "</style>\n",
       "<table border=\"1\" class=\"dataframe\">\n",
       "  <thead>\n",
       "    <tr style=\"text-align: right;\">\n",
       "      <th></th>\n",
       "      <th>Unnamed: 0</th>\n",
       "      <th>TV</th>\n",
       "      <th>radio</th>\n",
       "      <th>newspaper</th>\n",
       "      <th>sales</th>\n",
       "    </tr>\n",
       "  </thead>\n",
       "  <tbody>\n",
       "    <tr>\n",
       "      <th>0</th>\n",
       "      <td>1</td>\n",
       "      <td>230.1</td>\n",
       "      <td>37.8</td>\n",
       "      <td>69.2</td>\n",
       "      <td>22.1</td>\n",
       "    </tr>\n",
       "    <tr>\n",
       "      <th>1</th>\n",
       "      <td>2</td>\n",
       "      <td>44.5</td>\n",
       "      <td>39.3</td>\n",
       "      <td>45.1</td>\n",
       "      <td>10.4</td>\n",
       "    </tr>\n",
       "    <tr>\n",
       "      <th>2</th>\n",
       "      <td>3</td>\n",
       "      <td>17.2</td>\n",
       "      <td>45.9</td>\n",
       "      <td>69.3</td>\n",
       "      <td>9.3</td>\n",
       "    </tr>\n",
       "    <tr>\n",
       "      <th>3</th>\n",
       "      <td>4</td>\n",
       "      <td>151.5</td>\n",
       "      <td>41.3</td>\n",
       "      <td>58.5</td>\n",
       "      <td>18.5</td>\n",
       "    </tr>\n",
       "    <tr>\n",
       "      <th>4</th>\n",
       "      <td>5</td>\n",
       "      <td>180.8</td>\n",
       "      <td>10.8</td>\n",
       "      <td>58.4</td>\n",
       "      <td>12.9</td>\n",
       "    </tr>\n",
       "  </tbody>\n",
       "</table>\n",
       "</div>"
      ],
      "text/plain": [
       "   Unnamed: 0     TV  radio  newspaper  sales\n",
       "0           1  230.1   37.8       69.2   22.1\n",
       "1           2   44.5   39.3       45.1   10.4\n",
       "2           3   17.2   45.9       69.3    9.3\n",
       "3           4  151.5   41.3       58.5   18.5\n",
       "4           5  180.8   10.8       58.4   12.9"
      ]
     },
     "execution_count": 7,
     "metadata": {},
     "output_type": "execute_result"
    }
   ],
   "source": [
    "data.head()"
   ]
  },
  {
   "cell_type": "code",
   "execution_count": 10,
   "metadata": {},
   "outputs": [
    {
     "data": {
      "text/plain": [
       "<matplotlib.collections.PathCollection at 0x7fce701656d0>"
      ]
     },
     "execution_count": 10,
     "metadata": {},
     "output_type": "execute_result"
    },
    {
     "data": {
      "image/png": "[encoded data removed]",
      "text/plain": [
       "<Figure size 432x288 with 1 Axes>"
      ]
     },
     "metadata": {
      "needs_background": "light"
     },
     "output_type": "display_data"
    }
   ],
   "source": [
    "plt.scatter(data.newspaper,data.sales)"
   ]
  },
  {
   "cell_type": "code",
   "execution_count": 11,
   "metadata": {},
   "outputs": [],
   "source": [
    "x = data.iloc[:,1:-1]\n",
    "y = data.iloc[:,-1]"
   ]
  },
  {
   "cell_type": "code",
   "execution_count": 16,
   "metadata": {},
   "outputs": [],
   "source": [
    "model = tf.keras.Sequential([tf.keras.layers.Dense(10,input_shape=(3,),activation='relu'),\n",
    "                            tf.keras.layers.Dense(1)])"
   ]
  },
  {
   "cell_type": "code",
   "execution_count": 17,
   "metadata": {},
   "outputs": [
    {
     "name": "stdout",
     "output_type": "stream",
     "text": [
      "Model: \"sequential\"\n",
      "_________________________________________________________________\n",
      "Layer (type)                 Output Shape              Param #   \n",
      "=================================================================\n",
      "dense (Dense)                (None, 10)                40        \n",
      "_________________________________________________________________\n",
      "dense_1 (Dense)              (None, 1)                 11        \n",
      "=================================================================\n",
      "Total params: 51\n",
      "Trainable params: 51\n",
      "Non-trainable params: 0\n",
      "_________________________________________________________________\n"
     ]
    }
   ],
   "source": [
    "model.summary()"
   ]
  },
  {
   "cell_type": "code",
   "execution_count": 18,
   "metadata": {},
   "outputs": [
    {
     "name": "stdout",
     "output_type": "stream",
     "text": [
      "WARNING:tensorflow:Falling back from v2 loop because of error: Failed to find data adapter that can handle input: <class 'pandas.core.frame.DataFrame'>, <class 'NoneType'>\n",
      "Train on 200 samples\n",
      "Epoch 1/100\n",
      "200/200 [==============================] - 0s 600us/sample - loss: 1812.8427\n",
      "Epoch 2/100\n",
      "200/200 [==============================] - 0s 42us/sample - loss: 1439.6967\n",
      "Epoch 3/100\n",
      "200/200 [==============================] - 0s 32us/sample - loss: 1116.5265\n",
      "Epoch 4/100\n",
      "200/200 [==============================] - 0s 34us/sample - loss: 853.4832\n",
      "Epoch 5/100\n",
      "200/200 [==============================] - 0s 34us/sample - loss: 634.2911\n",
      "Epoch 6/100\n",
      "200/200 [==============================] - 0s 33us/sample - loss: 461.8024\n",
      "Epoch 7/100\n",
      "200/200 [==============================] - 0s 30us/sample - loss: 334.5364\n",
      "Epoch 8/100\n",
      "200/200 [==============================] - 0s 31us/sample - loss: 237.8924\n",
      "Epoch 9/100\n",
      "200/200 [==============================] - 0s 32us/sample - loss: 171.0938\n",
      "Epoch 10/100\n",
      "200/200 [==============================] - 0s 31us/sample - loss: 125.6471\n",
      "Epoch 11/100\n",
      "200/200 [==============================] - 0s 33us/sample - loss: 94.9468\n",
      "Epoch 12/100\n",
      "200/200 [==============================] - 0s 31us/sample - loss: 77.7072\n",
      "Epoch 13/100\n",
      "200/200 [==============================] - 0s 30us/sample - loss: 66.2732\n",
      "Epoch 14/100\n",
      "200/200 [==============================] - 0s 33us/sample - loss: 60.5826\n",
      "Epoch 15/100\n",
      "200/200 [==============================] - 0s 32us/sample - loss: 57.2836\n",
      "Epoch 16/100\n",
      "200/200 [==============================] - 0s 30us/sample - loss: 54.7800\n",
      "Epoch 17/100\n",
      "200/200 [==============================] - 0s 29us/sample - loss: 53.1651\n",
      "Epoch 18/100\n",
      "200/200 [==============================] - 0s 27us/sample - loss: 52.0776\n",
      "Epoch 19/100\n",
      "200/200 [==============================] - 0s 28us/sample - loss: 50.6797\n",
      "Epoch 20/100\n",
      "200/200 [==============================] - 0s 26us/sample - loss: 49.4708\n",
      "Epoch 21/100\n",
      "200/200 [==============================] - 0s 27us/sample - loss: 48.2539\n",
      "Epoch 22/100\n",
      "200/200 [==============================] - 0s 28us/sample - loss: 46.9998\n",
      "Epoch 23/100\n",
      "200/200 [==============================] - 0s 27us/sample - loss: 45.8502\n",
      "Epoch 24/100\n",
      "200/200 [==============================] - 0s 28us/sample - loss: 44.7547\n",
      "Epoch 25/100\n",
      "200/200 [==============================] - 0s 29us/sample - loss: 43.6009\n",
      "Epoch 26/100\n",
      "200/200 [==============================] - 0s 29us/sample - loss: 42.5250\n",
      "Epoch 27/100\n",
      "200/200 [==============================] - 0s 31us/sample - loss: 41.3499\n",
      "Epoch 28/100\n",
      "200/200 [==============================] - 0s 29us/sample - loss: 40.2799\n",
      "Epoch 29/100\n",
      "200/200 [==============================] - 0s 29us/sample - loss: 39.2184\n",
      "Epoch 30/100\n",
      "200/200 [==============================] - 0s 29us/sample - loss: 38.1870\n",
      "Epoch 31/100\n",
      "200/200 [==============================] - 0s 28us/sample - loss: 37.1784\n",
      "Epoch 32/100\n",
      "200/200 [==============================] - 0s 32us/sample - loss: 36.1653\n",
      "Epoch 33/100\n",
      "200/200 [==============================] - 0s 29us/sample - loss: 35.2996\n",
      "Epoch 34/100\n",
      "200/200 [==============================] - 0s 30us/sample - loss: 34.3020\n",
      "Epoch 35/100\n",
      "200/200 [==============================] - 0s 28us/sample - loss: 33.3364\n",
      "Epoch 36/100\n",
      "200/200 [==============================] - 0s 27us/sample - loss: 32.4177\n",
      "Epoch 37/100\n",
      "200/200 [==============================] - 0s 28us/sample - loss: 31.5362\n",
      "Epoch 38/100\n",
      "200/200 [==============================] - 0s 29us/sample - loss: 30.6455\n",
      "Epoch 39/100\n",
      "200/200 [==============================] - 0s 29us/sample - loss: 29.8163\n",
      "Epoch 40/100\n",
      "200/200 [==============================] - 0s 30us/sample - loss: 28.9539\n",
      "Epoch 41/100\n",
      "200/200 [==============================] - 0s 29us/sample - loss: 28.1095\n",
      "Epoch 42/100\n",
      "200/200 [==============================] - 0s 29us/sample - loss: 27.2929\n",
      "Epoch 43/100\n",
      "200/200 [==============================] - 0s 30us/sample - loss: 26.5559\n",
      "Epoch 44/100\n",
      "200/200 [==============================] - 0s 32us/sample - loss: 25.8509\n",
      "Epoch 45/100\n",
      "200/200 [==============================] - 0s 29us/sample - loss: 25.0835\n",
      "Epoch 46/100\n",
      "200/200 [==============================] - 0s 29us/sample - loss: 24.4109\n",
      "Epoch 47/100\n",
      "200/200 [==============================] - 0s 31us/sample - loss: 23.6791\n",
      "Epoch 48/100\n",
      "200/200 [==============================] - 0s 30us/sample - loss: 22.9868\n",
      "Epoch 49/100\n",
      "200/200 [==============================] - 0s 30us/sample - loss: 22.3635\n",
      "Epoch 50/100\n",
      "200/200 [==============================] - 0s 31us/sample - loss: 21.6969\n",
      "Epoch 51/100\n",
      "200/200 [==============================] - 0s 30us/sample - loss: 21.1139\n",
      "Epoch 52/100\n",
      "200/200 [==============================] - 0s 29us/sample - loss: 20.4929\n",
      "Epoch 53/100\n",
      "200/200 [==============================] - 0s 31us/sample - loss: 19.9211\n",
      "Epoch 54/100\n",
      "200/200 [==============================] - 0s 31us/sample - loss: 19.2913\n",
      "Epoch 55/100\n",
      "200/200 [==============================] - 0s 32us/sample - loss: 18.6997\n",
      "Epoch 56/100\n",
      "200/200 [==============================] - 0s 29us/sample - loss: 18.1781\n",
      "Epoch 57/100\n",
      "200/200 [==============================] - 0s 33us/sample - loss: 17.6088\n",
      "Epoch 58/100\n",
      "200/200 [==============================] - 0s 31us/sample - loss: 17.0819\n",
      "Epoch 59/100\n",
      "200/200 [==============================] - 0s 30us/sample - loss: 16.5876\n",
      "Epoch 60/100\n",
      "200/200 [==============================] - 0s 30us/sample - loss: 16.0597\n",
      "Epoch 61/100\n",
      "200/200 [==============================] - 0s 30us/sample - loss: 15.6400\n",
      "Epoch 62/100\n",
      "200/200 [==============================] - 0s 30us/sample - loss: 15.1494\n",
      "Epoch 63/100\n",
      "200/200 [==============================] - 0s 32us/sample - loss: 14.7037\n",
      "Epoch 64/100\n",
      "200/200 [==============================] - 0s 29us/sample - loss: 14.2828\n",
      "Epoch 65/100\n",
      "200/200 [==============================] - 0s 30us/sample - loss: 13.9095\n",
      "Epoch 66/100\n",
      "200/200 [==============================] - 0s 31us/sample - loss: 13.5130\n",
      "Epoch 67/100\n",
      "200/200 [==============================] - 0s 30us/sample - loss: 13.1247\n",
      "Epoch 68/100\n",
      "200/200 [==============================] - 0s 32us/sample - loss: 12.7465\n",
      "Epoch 69/100\n",
      "200/200 [==============================] - 0s 29us/sample - loss: 12.3658\n",
      "Epoch 70/100\n",
      "200/200 [==============================] - 0s 29us/sample - loss: 12.0416\n",
      "Epoch 71/100\n",
      "200/200 [==============================] - 0s 30us/sample - loss: 11.7092\n",
      "Epoch 72/100\n",
      "200/200 [==============================] - 0s 30us/sample - loss: 11.3678\n",
      "Epoch 73/100\n",
      "200/200 [==============================] - 0s 31us/sample - loss: 11.0563\n",
      "Epoch 74/100\n",
      "200/200 [==============================] - 0s 31us/sample - loss: 10.7434\n",
      "Epoch 75/100\n",
      "200/200 [==============================] - 0s 31us/sample - loss: 10.4307\n",
      "Epoch 76/100\n",
      "200/200 [==============================] - 0s 31us/sample - loss: 10.1542\n",
      "Epoch 77/100\n",
      "200/200 [==============================] - 0s 32us/sample - loss: 9.8790\n",
      "Epoch 78/100\n",
      "200/200 [==============================] - 0s 30us/sample - loss: 9.5808\n",
      "Epoch 79/100\n",
      "200/200 [==============================] - 0s 30us/sample - loss: 9.3140\n",
      "Epoch 80/100\n",
      "200/200 [==============================] - 0s 32us/sample - loss: 9.0517\n",
      "Epoch 81/100\n",
      "200/200 [==============================] - 0s 30us/sample - loss: 8.8306\n",
      "Epoch 82/100\n",
      "200/200 [==============================] - 0s 28us/sample - loss: 8.6044\n",
      "Epoch 83/100\n",
      "200/200 [==============================] - 0s 30us/sample - loss: 8.3589\n",
      "Epoch 84/100\n",
      "200/200 [==============================] - 0s 31us/sample - loss: 8.1479\n",
      "Epoch 85/100\n",
      "200/200 [==============================] - 0s 30us/sample - loss: 7.9111\n",
      "Epoch 86/100\n",
      "200/200 [==============================] - 0s 30us/sample - loss: 7.7110\n",
      "Epoch 87/100\n",
      "200/200 [==============================] - 0s 32us/sample - loss: 7.5336\n",
      "Epoch 88/100\n",
      "200/200 [==============================] - 0s 30us/sample - loss: 7.4403\n",
      "Epoch 89/100\n",
      "200/200 [==============================] - 0s 29us/sample - loss: 7.2779\n",
      "Epoch 90/100\n",
      "200/200 [==============================] - 0s 31us/sample - loss: 7.1177\n",
      "Epoch 91/100\n",
      "200/200 [==============================] - 0s 29us/sample - loss: 6.9992\n",
      "Epoch 92/100\n",
      "200/200 [==============================] - 0s 30us/sample - loss: 6.8703\n",
      "Epoch 93/100\n",
      "200/200 [==============================] - 0s 31us/sample - loss: 6.7559\n",
      "Epoch 94/100\n",
      "200/200 [==============================] - 0s 29us/sample - loss: 6.6340\n",
      "Epoch 95/100\n",
      "200/200 [==============================] - 0s 30us/sample - loss: 6.5265\n",
      "Epoch 96/100\n",
      "200/200 [==============================] - 0s 29us/sample - loss: 6.4296\n",
      "Epoch 97/100\n",
      "200/200 [==============================] - 0s 27us/sample - loss: 6.3159\n",
      "Epoch 98/100\n",
      "200/200 [==============================] - 0s 29us/sample - loss: 6.2361\n",
      "Epoch 99/100\n",
      "200/200 [==============================] - 0s 30us/sample - loss: 6.1420\n",
      "Epoch 100/100\n",
      "200/200 [==============================] - 0s 28us/sample - loss: 6.0586\n"
     ]
    },
    {
     "data": {
      "text/plain": [
       "<tensorflow.python.keras.callbacks.History at 0x7fce7c393c90>"
      ]
     },
     "execution_count": 18,
     "metadata": {},
     "output_type": "execute_result"
    }
   ],
   "source": [
    "model.compile(optimizer='adam',\n",
    "             loss='mse')\n",
    "model.fit(x,y,epochs=100)"
   ]
  },
  {
   "cell_type": "code",
   "execution_count": 19,
   "metadata": {},
   "outputs": [
    {
     "name": "stdout",
     "output_type": "stream",
     "text": [
      "WARNING:tensorflow:Falling back from v2 loop because of error: Failed to find data adapter that can handle input: <class 'pandas.core.frame.DataFrame'>, <class 'NoneType'>\n"
     ]
    },
    {
     "data": {
      "text/plain": [
       "array([[22.297672 ],\n",
       "       [ 6.7891912],\n",
       "       [ 8.270807 ],\n",
       "       [17.93851  ],\n",
       "       [17.179174 ],\n",
       "       [ 8.0872   ],\n",
       "       [ 9.478147 ],\n",
       "       [11.21887  ],\n",
       "       [ 1.0383441],\n",
       "       [10.681198 ]], dtype=float32)"
      ]
     },
     "execution_count": 19,
     "metadata": {},
     "output_type": "execute_result"
    }
   ],
   "source": [
    "test = data.iloc[:10,1:-1]\n",
    "model.predict(test)"
   ]
  },
  {
   "cell_type": "code",
   "execution_count": null,
   "metadata": {},
   "outputs": [],
   "source": []
  }
 ],
 "metadata": {
  "kernelspec": {
   "display_name": "wjc_python3.8",
   "language": "python",
   "name": "wjc_python3.8"
  },
  "language_info": {
   "codemirror_mode": {
    "name": "ipython",
    "version": 3
   },
   "file_extension": ".py",
   "mimetype": "text/x-python",
   "name": "python",
   "nbconvert_exporter": "python",
   "pygments_lexer": "ipython3",
   "version": "3.7.9"
  }
 },
 "nbformat": 4,
 "nbformat_minor": 4
}
